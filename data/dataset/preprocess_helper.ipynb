{
 "cells": [
  {
   "cell_type": "code",
   "execution_count": 2,
   "metadata": {
    "collapsed": false,
    "pycharm": {
     "name": "#%%\n"
    }
   },
   "outputs": [],
   "source": [
    "try:\n",
    "    import cv2\n",
    "    import PIL.Image as Image\n",
    "except:\n",
    "    %pip install opencv-python\n",
    "    %pip install pillow\n",
    "    import cv2\n",
    "    import PIL.Image as Image\n",
    "import glob\n",
    "import os\n",
    "import numpy as np\n",
    "from helper.video2frame import video2frame\n",
    "\n"
   ]
  },
  {
   "cell_type": "code",
   "execution_count": 4,
   "metadata": {
    "collapsed": false,
    "pycharm": {
     "name": "#%%\n"
    }
   },
   "outputs": [
    {
     "name": "stdout",
     "output_type": "stream",
     "text": [
      "CHECK OUT YOUR DIRECTORY BY ABSOLUTE PATH\n",
      "DATASET_DIR: C:\\Project\\View\\gauge-reading\\dataset\\needle_dataset\n",
      "PROJECT_DIR: C:\\Project\\View\\gauge-reading\n",
      "VIDEO_DIR: C:\\Project\\View\\gauge-reading\\videos\n"
     ]
    }
   ],
   "source": [
    "DATASET_DIR = \"needle_dataset/\"\n",
    "PROJECT_DIR = \"./\"\n",
    "VIDEO_DIR = \"videos\"\n",
    "\n",
    "DATASET_DIR = os.path.abspath(DATASET_DIR)\n",
    "PROJECT_DIR = os.path.abspath(PROJECT_DIR)\n",
    "VIDEO_DIR = os.path.abspath(VIDEO_DIR)\n",
    "\n",
    "print(\"CHECK OUT YOUR DIRECTORY BY ABSOLUTE PATH\")\n",
    "print(\"DATASET_DIR:\", DATASET_DIR)\n",
    "print(\"PROJECT_DIR:\", PROJECT_DIR)\n",
    "print(\"VIDEO_DIR:\", VIDEO_DIR)"
   ]
  },
  {
   "cell_type": "code",
   "execution_count": 5,
   "metadata": {
    "collapsed": false,
    "pycharm": {
     "name": "#%% GET DATA FROM HYPERPARAMETER\n"
    }
   },
   "outputs": [],
   "source": [
    "FRAME_INTERVAL = 700\n",
    "TEST_RATIO = 0.1 # 9:1"
   ]
  },
  {
   "cell_type": "markdown",
   "metadata": {
    "collapsed": false,
    "pycharm": {
     "name": "#%% md\n"
    }
   },
   "source": [
    "### Extract frames from video\n",
    "#### If you are not labeling now, please skip this session"
   ]
  },
  {
   "cell_type": "code",
   "execution_count": 15,
   "metadata": {
    "collapsed": false,
    "pycharm": {
     "name": "#%% Extract Frames intervaled by FRAMES_INTERVAL\n"
    }
   },
   "outputs": [
    {
     "name": "stdout",
     "output_type": "stream",
     "text": [
      "700  /  12875  of file  /home/vm01/Project/gauge/videos/one_20cm.mp4  save at  /home/vm01/Project/gauge/dataset/needle_dataset/annotate_here/ 1\n",
      "1400  /  12875  of file  /home/vm01/Project/gauge/videos/one_20cm.mp4  save at  /home/vm01/Project/gauge/dataset/needle_dataset/annotate_here/ 2\n",
      "2100  /  12875  of file  /home/vm01/Project/gauge/videos/one_20cm.mp4  save at  /home/vm01/Project/gauge/dataset/needle_dataset/annotate_here/ 3\n",
      "2800  /  12875  of file  /home/vm01/Project/gauge/videos/one_20cm.mp4  save at  /home/vm01/Project/gauge/dataset/needle_dataset/annotate_here/ 4\n",
      "3500  /  12875  of file  /home/vm01/Project/gauge/videos/one_20cm.mp4  save at  /home/vm01/Project/gauge/dataset/needle_dataset/annotate_here/ 5\n",
      "4200  /  12875  of file  /home/vm01/Project/gauge/videos/one_20cm.mp4  save at  /home/vm01/Project/gauge/dataset/needle_dataset/annotate_here/ 6\n",
      "4900  /  12875  of file  /home/vm01/Project/gauge/videos/one_20cm.mp4  save at  /home/vm01/Project/gauge/dataset/needle_dataset/annotate_here/ 7\n",
      "5600  /  12875  of file  /home/vm01/Project/gauge/videos/one_20cm.mp4  save at  /home/vm01/Project/gauge/dataset/needle_dataset/annotate_here/ 8\n",
      "6300  /  12875  of file  /home/vm01/Project/gauge/videos/one_20cm.mp4  save at  /home/vm01/Project/gauge/dataset/needle_dataset/annotate_here/ 9\n",
      "7000  /  12875  of file  /home/vm01/Project/gauge/videos/one_20cm.mp4  save at  /home/vm01/Project/gauge/dataset/needle_dataset/annotate_here/ 10\n",
      "7700  /  12875  of file  /home/vm01/Project/gauge/videos/one_20cm.mp4  save at  /home/vm01/Project/gauge/dataset/needle_dataset/annotate_here/ 11\n",
      "8400  /  12875  of file  /home/vm01/Project/gauge/videos/one_20cm.mp4  save at  /home/vm01/Project/gauge/dataset/needle_dataset/annotate_here/ 12\n",
      "9100  /  12875  of file  /home/vm01/Project/gauge/videos/one_20cm.mp4  save at  /home/vm01/Project/gauge/dataset/needle_dataset/annotate_here/ 13\n",
      "9800  /  12875  of file  /home/vm01/Project/gauge/videos/one_20cm.mp4  save at  /home/vm01/Project/gauge/dataset/needle_dataset/annotate_here/ 14\n",
      "10500  /  12875  of file  /home/vm01/Project/gauge/videos/one_20cm.mp4  save at  /home/vm01/Project/gauge/dataset/needle_dataset/annotate_here/ 15\n",
      "11200  /  12875  of file  /home/vm01/Project/gauge/videos/one_20cm.mp4  save at  /home/vm01/Project/gauge/dataset/needle_dataset/annotate_here/ 16\n",
      "11900  /  12875  of file  /home/vm01/Project/gauge/videos/one_20cm.mp4  save at  /home/vm01/Project/gauge/dataset/needle_dataset/annotate_here/ 17\n",
      "12600  /  12875  of file  /home/vm01/Project/gauge/videos/one_20cm.mp4  save at  /home/vm01/Project/gauge/dataset/needle_dataset/annotate_here/ 18\n",
      "12875 images are extracted in /home/vm01/Project/gauge/dataset/needle_dataset/annotate_here/.\n",
      "700  /  9108  of file  /home/vm01/Project/gauge/videos/many_30cm.mp4  save at  /home/vm01/Project/gauge/dataset/needle_dataset/annotate_here/ 20\n",
      "1400  /  9108  of file  /home/vm01/Project/gauge/videos/many_30cm.mp4  save at  /home/vm01/Project/gauge/dataset/needle_dataset/annotate_here/ 21\n",
      "2100  /  9108  of file  /home/vm01/Project/gauge/videos/many_30cm.mp4  save at  /home/vm01/Project/gauge/dataset/needle_dataset/annotate_here/ 22\n",
      "2800  /  9108  of file  /home/vm01/Project/gauge/videos/many_30cm.mp4  save at  /home/vm01/Project/gauge/dataset/needle_dataset/annotate_here/ 23\n",
      "3500  /  9108  of file  /home/vm01/Project/gauge/videos/many_30cm.mp4  save at  /home/vm01/Project/gauge/dataset/needle_dataset/annotate_here/ 24\n",
      "4200  /  9108  of file  /home/vm01/Project/gauge/videos/many_30cm.mp4  save at  /home/vm01/Project/gauge/dataset/needle_dataset/annotate_here/ 25\n",
      "4900  /  9108  of file  /home/vm01/Project/gauge/videos/many_30cm.mp4  save at  /home/vm01/Project/gauge/dataset/needle_dataset/annotate_here/ 26\n",
      "5600  /  9108  of file  /home/vm01/Project/gauge/videos/many_30cm.mp4  save at  /home/vm01/Project/gauge/dataset/needle_dataset/annotate_here/ 27\n",
      "6300  /  9108  of file  /home/vm01/Project/gauge/videos/many_30cm.mp4  save at  /home/vm01/Project/gauge/dataset/needle_dataset/annotate_here/ 28\n",
      "7000  /  9108  of file  /home/vm01/Project/gauge/videos/many_30cm.mp4  save at  /home/vm01/Project/gauge/dataset/needle_dataset/annotate_here/ 29\n",
      "7700  /  9108  of file  /home/vm01/Project/gauge/videos/many_30cm.mp4  save at  /home/vm01/Project/gauge/dataset/needle_dataset/annotate_here/ 30\n",
      "8400  /  9108  of file  /home/vm01/Project/gauge/videos/many_30cm.mp4  save at  /home/vm01/Project/gauge/dataset/needle_dataset/annotate_here/ 31\n",
      "9100  /  9108  of file  /home/vm01/Project/gauge/videos/many_30cm.mp4  save at  /home/vm01/Project/gauge/dataset/needle_dataset/annotate_here/ 32\n",
      "9108 images are extracted in /home/vm01/Project/gauge/dataset/needle_dataset/annotate_here/.\n",
      "700  /  13415  of file  /home/vm01/Project/gauge/videos/many_20cm.mp4  save at  /home/vm01/Project/gauge/dataset/needle_dataset/annotate_here/ 34\n",
      "1400  /  13415  of file  /home/vm01/Project/gauge/videos/many_20cm.mp4  save at  /home/vm01/Project/gauge/dataset/needle_dataset/annotate_here/ 35\n",
      "2100  /  13415  of file  /home/vm01/Project/gauge/videos/many_20cm.mp4  save at  /home/vm01/Project/gauge/dataset/needle_dataset/annotate_here/ 36\n",
      "2800  /  13415  of file  /home/vm01/Project/gauge/videos/many_20cm.mp4  save at  /home/vm01/Project/gauge/dataset/needle_dataset/annotate_here/ 37\n",
      "3500  /  13415  of file  /home/vm01/Project/gauge/videos/many_20cm.mp4  save at  /home/vm01/Project/gauge/dataset/needle_dataset/annotate_here/ 38\n",
      "4200  /  13415  of file  /home/vm01/Project/gauge/videos/many_20cm.mp4  save at  /home/vm01/Project/gauge/dataset/needle_dataset/annotate_here/ 39\n",
      "4900  /  13415  of file  /home/vm01/Project/gauge/videos/many_20cm.mp4  save at  /home/vm01/Project/gauge/dataset/needle_dataset/annotate_here/ 40\n",
      "5600  /  13415  of file  /home/vm01/Project/gauge/videos/many_20cm.mp4  save at  /home/vm01/Project/gauge/dataset/needle_dataset/annotate_here/ 41\n",
      "6300  /  13415  of file  /home/vm01/Project/gauge/videos/many_20cm.mp4  save at  /home/vm01/Project/gauge/dataset/needle_dataset/annotate_here/ 42\n",
      "7000  /  13415  of file  /home/vm01/Project/gauge/videos/many_20cm.mp4  save at  /home/vm01/Project/gauge/dataset/needle_dataset/annotate_here/ 43\n",
      "7700  /  13415  of file  /home/vm01/Project/gauge/videos/many_20cm.mp4  save at  /home/vm01/Project/gauge/dataset/needle_dataset/annotate_here/ 44\n",
      "8400  /  13415  of file  /home/vm01/Project/gauge/videos/many_20cm.mp4  save at  /home/vm01/Project/gauge/dataset/needle_dataset/annotate_here/ 45\n",
      "9100  /  13415  of file  /home/vm01/Project/gauge/videos/many_20cm.mp4  save at  /home/vm01/Project/gauge/dataset/needle_dataset/annotate_here/ 46\n",
      "9800  /  13415  of file  /home/vm01/Project/gauge/videos/many_20cm.mp4  save at  /home/vm01/Project/gauge/dataset/needle_dataset/annotate_here/ 47\n",
      "10500  /  13415  of file  /home/vm01/Project/gauge/videos/many_20cm.mp4  save at  /home/vm01/Project/gauge/dataset/needle_dataset/annotate_here/ 48\n",
      "11200  /  13415  of file  /home/vm01/Project/gauge/videos/many_20cm.mp4  save at  /home/vm01/Project/gauge/dataset/needle_dataset/annotate_here/ 49\n",
      "11900  /  13415  of file  /home/vm01/Project/gauge/videos/many_20cm.mp4  save at  /home/vm01/Project/gauge/dataset/needle_dataset/annotate_here/ 50\n",
      "12600  /  13415  of file  /home/vm01/Project/gauge/videos/many_20cm.mp4  save at  /home/vm01/Project/gauge/dataset/needle_dataset/annotate_here/ 51\n",
      "13300  /  13415  of file  /home/vm01/Project/gauge/videos/many_20cm.mp4  save at  /home/vm01/Project/gauge/dataset/needle_dataset/annotate_here/ 52\n",
      "13415 images are extracted in /home/vm01/Project/gauge/dataset/needle_dataset/annotate_here/.\n",
      "700  /  11591  of file  /home/vm01/Project/gauge/videos/many_10cm.mp4  save at  /home/vm01/Project/gauge/dataset/needle_dataset/annotate_here/ 54\n",
      "1400  /  11591  of file  /home/vm01/Project/gauge/videos/many_10cm.mp4  save at  /home/vm01/Project/gauge/dataset/needle_dataset/annotate_here/ 55\n",
      "2100  /  11591  of file  /home/vm01/Project/gauge/videos/many_10cm.mp4  save at  /home/vm01/Project/gauge/dataset/needle_dataset/annotate_here/ 56\n",
      "2800  /  11591  of file  /home/vm01/Project/gauge/videos/many_10cm.mp4  save at  /home/vm01/Project/gauge/dataset/needle_dataset/annotate_here/ 57\n",
      "3500  /  11591  of file  /home/vm01/Project/gauge/videos/many_10cm.mp4  save at  /home/vm01/Project/gauge/dataset/needle_dataset/annotate_here/ 58\n",
      "4200  /  11591  of file  /home/vm01/Project/gauge/videos/many_10cm.mp4  save at  /home/vm01/Project/gauge/dataset/needle_dataset/annotate_here/ 59\n",
      "4900  /  11591  of file  /home/vm01/Project/gauge/videos/many_10cm.mp4  save at  /home/vm01/Project/gauge/dataset/needle_dataset/annotate_here/ 60\n",
      "5600  /  11591  of file  /home/vm01/Project/gauge/videos/many_10cm.mp4  save at  /home/vm01/Project/gauge/dataset/needle_dataset/annotate_here/ 61\n",
      "6300  /  11591  of file  /home/vm01/Project/gauge/videos/many_10cm.mp4  save at  /home/vm01/Project/gauge/dataset/needle_dataset/annotate_here/ 62\n",
      "7000  /  11591  of file  /home/vm01/Project/gauge/videos/many_10cm.mp4  save at  /home/vm01/Project/gauge/dataset/needle_dataset/annotate_here/ 63\n",
      "7700  /  11591  of file  /home/vm01/Project/gauge/videos/many_10cm.mp4  save at  /home/vm01/Project/gauge/dataset/needle_dataset/annotate_here/ 64\n",
      "8400  /  11591  of file  /home/vm01/Project/gauge/videos/many_10cm.mp4  save at  /home/vm01/Project/gauge/dataset/needle_dataset/annotate_here/ 65\n",
      "9100  /  11591  of file  /home/vm01/Project/gauge/videos/many_10cm.mp4  save at  /home/vm01/Project/gauge/dataset/needle_dataset/annotate_here/ 66\n",
      "9800  /  11591  of file  /home/vm01/Project/gauge/videos/many_10cm.mp4  save at  /home/vm01/Project/gauge/dataset/needle_dataset/annotate_here/ 67\n",
      "10500  /  11591  of file  /home/vm01/Project/gauge/videos/many_10cm.mp4  save at  /home/vm01/Project/gauge/dataset/needle_dataset/annotate_here/ 68\n",
      "11200  /  11591  of file  /home/vm01/Project/gauge/videos/many_10cm.mp4  save at  /home/vm01/Project/gauge/dataset/needle_dataset/annotate_here/ 69\n",
      "11591 images are extracted in /home/vm01/Project/gauge/dataset/needle_dataset/annotate_here/.\n",
      "700  /  4697  of file  /home/vm01/Project/gauge/videos/one_40cm.mp4  save at  /home/vm01/Project/gauge/dataset/needle_dataset/annotate_here/ 71\n",
      "1400  /  4697  of file  /home/vm01/Project/gauge/videos/one_40cm.mp4  save at  /home/vm01/Project/gauge/dataset/needle_dataset/annotate_here/ 72\n",
      "2100  /  4697  of file  /home/vm01/Project/gauge/videos/one_40cm.mp4  save at  /home/vm01/Project/gauge/dataset/needle_dataset/annotate_here/ 73\n",
      "2800  /  4697  of file  /home/vm01/Project/gauge/videos/one_40cm.mp4  save at  /home/vm01/Project/gauge/dataset/needle_dataset/annotate_here/ 74\n",
      "3500  /  4697  of file  /home/vm01/Project/gauge/videos/one_40cm.mp4  save at  /home/vm01/Project/gauge/dataset/needle_dataset/annotate_here/ 75\n",
      "4200  /  4697  of file  /home/vm01/Project/gauge/videos/one_40cm.mp4  save at  /home/vm01/Project/gauge/dataset/needle_dataset/annotate_here/ 76\n",
      "4697 images are extracted in /home/vm01/Project/gauge/dataset/needle_dataset/annotate_here/.\n",
      "700  /  15123  of file  /home/vm01/Project/gauge/videos/many_50cm.mp4  save at  /home/vm01/Project/gauge/dataset/needle_dataset/annotate_here/ 78\n",
      "1400  /  15123  of file  /home/vm01/Project/gauge/videos/many_50cm.mp4  save at  /home/vm01/Project/gauge/dataset/needle_dataset/annotate_here/ 79\n",
      "2100  /  15123  of file  /home/vm01/Project/gauge/videos/many_50cm.mp4  save at  /home/vm01/Project/gauge/dataset/needle_dataset/annotate_here/ 80\n",
      "2800  /  15123  of file  /home/vm01/Project/gauge/videos/many_50cm.mp4  save at  /home/vm01/Project/gauge/dataset/needle_dataset/annotate_here/ 81\n",
      "3500  /  15123  of file  /home/vm01/Project/gauge/videos/many_50cm.mp4  save at  /home/vm01/Project/gauge/dataset/needle_dataset/annotate_here/ 82\n",
      "4200  /  15123  of file  /home/vm01/Project/gauge/videos/many_50cm.mp4  save at  /home/vm01/Project/gauge/dataset/needle_dataset/annotate_here/ 83\n",
      "4900  /  15123  of file  /home/vm01/Project/gauge/videos/many_50cm.mp4  save at  /home/vm01/Project/gauge/dataset/needle_dataset/annotate_here/ 84\n",
      "5600  /  15123  of file  /home/vm01/Project/gauge/videos/many_50cm.mp4  save at  /home/vm01/Project/gauge/dataset/needle_dataset/annotate_here/ 85\n",
      "6300  /  15123  of file  /home/vm01/Project/gauge/videos/many_50cm.mp4  save at  /home/vm01/Project/gauge/dataset/needle_dataset/annotate_here/ 86\n",
      "7000  /  15123  of file  /home/vm01/Project/gauge/videos/many_50cm.mp4  save at  /home/vm01/Project/gauge/dataset/needle_dataset/annotate_here/ 87\n",
      "7700  /  15123  of file  /home/vm01/Project/gauge/videos/many_50cm.mp4  save at  /home/vm01/Project/gauge/dataset/needle_dataset/annotate_here/ 88\n",
      "8400  /  15123  of file  /home/vm01/Project/gauge/videos/many_50cm.mp4  save at  /home/vm01/Project/gauge/dataset/needle_dataset/annotate_here/ 89\n",
      "9100  /  15123  of file  /home/vm01/Project/gauge/videos/many_50cm.mp4  save at  /home/vm01/Project/gauge/dataset/needle_dataset/annotate_here/ 90\n",
      "9800  /  15123  of file  /home/vm01/Project/gauge/videos/many_50cm.mp4  save at  /home/vm01/Project/gauge/dataset/needle_dataset/annotate_here/ 91\n",
      "10500  /  15123  of file  /home/vm01/Project/gauge/videos/many_50cm.mp4  save at  /home/vm01/Project/gauge/dataset/needle_dataset/annotate_here/ 92\n",
      "11200  /  15123  of file  /home/vm01/Project/gauge/videos/many_50cm.mp4  save at  /home/vm01/Project/gauge/dataset/needle_dataset/annotate_here/ 93\n",
      "11900  /  15123  of file  /home/vm01/Project/gauge/videos/many_50cm.mp4  save at  /home/vm01/Project/gauge/dataset/needle_dataset/annotate_here/ 94\n",
      "12600  /  15123  of file  /home/vm01/Project/gauge/videos/many_50cm.mp4  save at  /home/vm01/Project/gauge/dataset/needle_dataset/annotate_here/ 95\n",
      "13300  /  15123  of file  /home/vm01/Project/gauge/videos/many_50cm.mp4  save at  /home/vm01/Project/gauge/dataset/needle_dataset/annotate_here/ 96\n",
      "14000  /  15123  of file  /home/vm01/Project/gauge/videos/many_50cm.mp4  save at  /home/vm01/Project/gauge/dataset/needle_dataset/annotate_here/ 97\n",
      "14700  /  15123  of file  /home/vm01/Project/gauge/videos/many_50cm.mp4  save at  /home/vm01/Project/gauge/dataset/needle_dataset/annotate_here/ 98\n",
      "15123 images are extracted in /home/vm01/Project/gauge/dataset/needle_dataset/annotate_here/.\n",
      "700  /  14976  of file  /home/vm01/Project/gauge/videos/many_40cm.mp4  save at  /home/vm01/Project/gauge/dataset/needle_dataset/annotate_here/ 100\n",
      "1400  /  14976  of file  /home/vm01/Project/gauge/videos/many_40cm.mp4  save at  /home/vm01/Project/gauge/dataset/needle_dataset/annotate_here/ 101\n",
      "2100  /  14976  of file  /home/vm01/Project/gauge/videos/many_40cm.mp4  save at  /home/vm01/Project/gauge/dataset/needle_dataset/annotate_here/ 102\n",
      "2800  /  14976  of file  /home/vm01/Project/gauge/videos/many_40cm.mp4  save at  /home/vm01/Project/gauge/dataset/needle_dataset/annotate_here/ 103\n",
      "3500  /  14976  of file  /home/vm01/Project/gauge/videos/many_40cm.mp4  save at  /home/vm01/Project/gauge/dataset/needle_dataset/annotate_here/ 104\n",
      "4200  /  14976  of file  /home/vm01/Project/gauge/videos/many_40cm.mp4  save at  /home/vm01/Project/gauge/dataset/needle_dataset/annotate_here/ 105\n",
      "4900  /  14976  of file  /home/vm01/Project/gauge/videos/many_40cm.mp4  save at  /home/vm01/Project/gauge/dataset/needle_dataset/annotate_here/ 106\n",
      "5600  /  14976  of file  /home/vm01/Project/gauge/videos/many_40cm.mp4  save at  /home/vm01/Project/gauge/dataset/needle_dataset/annotate_here/ 107\n",
      "6300  /  14976  of file  /home/vm01/Project/gauge/videos/many_40cm.mp4  save at  /home/vm01/Project/gauge/dataset/needle_dataset/annotate_here/ 108\n",
      "7000  /  14976  of file  /home/vm01/Project/gauge/videos/many_40cm.mp4  save at  /home/vm01/Project/gauge/dataset/needle_dataset/annotate_here/ 109\n",
      "7700  /  14976  of file  /home/vm01/Project/gauge/videos/many_40cm.mp4  save at  /home/vm01/Project/gauge/dataset/needle_dataset/annotate_here/ 110\n",
      "8400  /  14976  of file  /home/vm01/Project/gauge/videos/many_40cm.mp4  save at  /home/vm01/Project/gauge/dataset/needle_dataset/annotate_here/ 111\n",
      "9100  /  14976  of file  /home/vm01/Project/gauge/videos/many_40cm.mp4  save at  /home/vm01/Project/gauge/dataset/needle_dataset/annotate_here/ 112\n",
      "9800  /  14976  of file  /home/vm01/Project/gauge/videos/many_40cm.mp4  save at  /home/vm01/Project/gauge/dataset/needle_dataset/annotate_here/ 113\n",
      "10500  /  14976  of file  /home/vm01/Project/gauge/videos/many_40cm.mp4  save at  /home/vm01/Project/gauge/dataset/needle_dataset/annotate_here/ 114\n",
      "11200  /  14976  of file  /home/vm01/Project/gauge/videos/many_40cm.mp4  save at  /home/vm01/Project/gauge/dataset/needle_dataset/annotate_here/ 115\n",
      "11900  /  14976  of file  /home/vm01/Project/gauge/videos/many_40cm.mp4  save at  /home/vm01/Project/gauge/dataset/needle_dataset/annotate_here/ 116\n",
      "12600  /  14976  of file  /home/vm01/Project/gauge/videos/many_40cm.mp4  save at  /home/vm01/Project/gauge/dataset/needle_dataset/annotate_here/ 117\n",
      "13300  /  14976  of file  /home/vm01/Project/gauge/videos/many_40cm.mp4  save at  /home/vm01/Project/gauge/dataset/needle_dataset/annotate_here/ 118\n",
      "14000  /  14976  of file  /home/vm01/Project/gauge/videos/many_40cm.mp4  save at  /home/vm01/Project/gauge/dataset/needle_dataset/annotate_here/ 119\n",
      "14700  /  14976  of file  /home/vm01/Project/gauge/videos/many_40cm.mp4  save at  /home/vm01/Project/gauge/dataset/needle_dataset/annotate_here/ 120\n",
      "14976 images are extracted in /home/vm01/Project/gauge/dataset/needle_dataset/annotate_here/.\n",
      "700  /  11500  of file  /home/vm01/Project/gauge/videos/one_30cm.mp4  save at  /home/vm01/Project/gauge/dataset/needle_dataset/annotate_here/ 122\n",
      "1400  /  11500  of file  /home/vm01/Project/gauge/videos/one_30cm.mp4  save at  /home/vm01/Project/gauge/dataset/needle_dataset/annotate_here/ 123\n",
      "2100  /  11500  of file  /home/vm01/Project/gauge/videos/one_30cm.mp4  save at  /home/vm01/Project/gauge/dataset/needle_dataset/annotate_here/ 124\n",
      "2800  /  11500  of file  /home/vm01/Project/gauge/videos/one_30cm.mp4  save at  /home/vm01/Project/gauge/dataset/needle_dataset/annotate_here/ 125\n",
      "3500  /  11500  of file  /home/vm01/Project/gauge/videos/one_30cm.mp4  save at  /home/vm01/Project/gauge/dataset/needle_dataset/annotate_here/ 126\n",
      "4200  /  11500  of file  /home/vm01/Project/gauge/videos/one_30cm.mp4  save at  /home/vm01/Project/gauge/dataset/needle_dataset/annotate_here/ 127\n",
      "4900  /  11500  of file  /home/vm01/Project/gauge/videos/one_30cm.mp4  save at  /home/vm01/Project/gauge/dataset/needle_dataset/annotate_here/ 128\n",
      "5600  /  11500  of file  /home/vm01/Project/gauge/videos/one_30cm.mp4  save at  /home/vm01/Project/gauge/dataset/needle_dataset/annotate_here/ 129\n",
      "6300  /  11500  of file  /home/vm01/Project/gauge/videos/one_30cm.mp4  save at  /home/vm01/Project/gauge/dataset/needle_dataset/annotate_here/ 130\n",
      "7000  /  11500  of file  /home/vm01/Project/gauge/videos/one_30cm.mp4  save at  /home/vm01/Project/gauge/dataset/needle_dataset/annotate_here/ 131\n",
      "7700  /  11500  of file  /home/vm01/Project/gauge/videos/one_30cm.mp4  save at  /home/vm01/Project/gauge/dataset/needle_dataset/annotate_here/ 132\n",
      "8400  /  11500  of file  /home/vm01/Project/gauge/videos/one_30cm.mp4  save at  /home/vm01/Project/gauge/dataset/needle_dataset/annotate_here/ 133\n",
      "9100  /  11500  of file  /home/vm01/Project/gauge/videos/one_30cm.mp4  save at  /home/vm01/Project/gauge/dataset/needle_dataset/annotate_here/ 134\n",
      "9800  /  11500  of file  /home/vm01/Project/gauge/videos/one_30cm.mp4  save at  /home/vm01/Project/gauge/dataset/needle_dataset/annotate_here/ 135\n",
      "10500  /  11500  of file  /home/vm01/Project/gauge/videos/one_30cm.mp4  save at  /home/vm01/Project/gauge/dataset/needle_dataset/annotate_here/ 136\n",
      "11200  /  11500  of file  /home/vm01/Project/gauge/videos/one_30cm.mp4  save at  /home/vm01/Project/gauge/dataset/needle_dataset/annotate_here/ 137\n",
      "11500 images are extracted in /home/vm01/Project/gauge/dataset/needle_dataset/annotate_here/.\n"
     ]
    }
   ],
   "source": [
    "# ALL_VIDEO = True\n",
    "ALL_VIDEO = True\n",
    "# If extract_all_video is true,\n",
    "paths = []\n",
    "# CAUTION : MAKE SURE NOT TO BE OVERLAPPED. YOUR LABEL IS IMPORTANT\n",
    "idx_number = 0\n",
    "CUSTOM_VIDEO = [\"1개_3*\", \"1개_4*\"]\n",
    "\n",
    "if ALL_VIDEO:\n",
    "    paths = glob.glob(VIDEO_DIR+\"/*.mp4\")\n",
    "    VIDEO_TARGET = paths\n",
    "else:\n",
    "    for video_path in CUSTOM_VIDEO:\n",
    "        paths.extend(glob.glob(VIDEO_DIR+video_path))\n",
    "    print(paths)\n",
    "    VIDEO_TARGET = paths\n",
    "\n",
    "if not os.path.isdir(DATASET_DIR+\"annotate_here\"):\n",
    "    os.mkdir(DATASET_DIR+\"annotate_here\")\n",
    "for video_target in VIDEO_TARGET:\n",
    "    idx_number = video2frame(video_target, DATASET_DIR+\"annotate_here/\", FRAME_INTERVAL, idx_number)\n"
   ]
  },
  {
   "cell_type": "code",
   "execution_count": 17,
   "metadata": {},
   "outputs": [
    {
     "name": "stdout",
     "output_type": "stream",
     "text": [
      "/home/vm01/Project/gauge/dataset/needle_dataset/annotate_here\n",
      "QObject::moveToThread: Current thread (0x21038f0) is not the object's thread (0x24b4e80).\r\n",
      "Cannot move to target thread (0x21038f0)\r\n",
      "\r\n",
      "qt.qpa.plugin: Could not load the Qt platform plugin \"xcb\" in \"/home/vm01/Project/gauge/venv/lib/python3.8/site-packages/cv2/qt/plugins\" even though it was found.\r\n",
      "This application failed to start because no Qt platform plugin could be initialized. Reinstalling the application may fix this problem.\r\n",
      "\r\n",
      "Available platform plugins are: xcb, eglfs, linuxfb, minimal, minimalegl, offscreen, vnc, wayland-egl, wayland, wayland-xcomposite-egl, wayland-xcomposite-glx, webgl.\r\n",
      "\r\n"
     ]
    }
   ],
   "source": [
    "#PLEASE LABEL ON WINDOWS, OR GUI-BASED UBUNTU\n",
    "path = DATASET_DIR+\"annotate_here/\"\n",
    "%cd $path\n",
    "try:\n",
    "    !labelImg\n",
    "except:\n",
    "    !pip install labelimg\n",
    "    !labelImg\n",
    "\n",
    "#FOR UBUNTU, REFER TO https://pypi.org/project/labelImg/"
   ]
  },
  {
   "cell_type": "code",
   "execution_count": 13,
   "metadata": {
    "collapsed": false,
    "pycharm": {
     "name": "#%%\n"
    }
   },
   "outputs": [
    {
     "name": "stdout",
     "output_type": "stream",
     "text": [
      "CHECK OUT NON_ANNOTATED FILES(MAX 10)\n",
      "C:\\Project\\View\\gauge-reading\\dataset\\needle_dataset/annotate_here\\042\n",
      "C:\\Project\\View\\gauge-reading\\dataset\\needle_dataset/annotate_here\\047\n",
      "C:\\Project\\View\\gauge-reading\\dataset\\needle_dataset/annotate_here\\049\n",
      "C:\\Project\\View\\gauge-reading\\dataset\\needle_dataset/annotate_here\\051\n",
      "C:\\Project\\View\\gauge-reading\\dataset\\needle_dataset/annotate_here\\052\n",
      "C:\\Project\\View\\gauge-reading\\dataset\\needle_dataset/annotate_here\\058\n",
      "C:\\Project\\View\\gauge-reading\\dataset\\needle_dataset/annotate_here\\059\n",
      "C:\\Project\\View\\gauge-reading\\dataset\\needle_dataset/annotate_here\\062\n",
      "C:\\Project\\View\\gauge-reading\\dataset\\needle_dataset/annotate_here\\064\n",
      "C:\\Project\\View\\gauge-reading\\dataset\\needle_dataset/annotate_here\\065\n",
      "\n",
      "======================================\n",
      "Will only process with annotated files\n",
      "======================================\n",
      "['C:\\\\Project\\\\View\\\\gauge-reading\\\\dataset\\\\needle_dataset/annotate_here\\\\014', 'C:\\\\Project\\\\View\\\\gauge-reading\\\\dataset\\\\needle_dataset/annotate_here\\\\015', 'C:\\\\Project\\\\View\\\\gauge-reading\\\\dataset\\\\needle_dataset/annotate_here\\\\018', 'C:\\\\Project\\\\View\\\\gauge-reading\\\\dataset\\\\needle_dataset/annotate_here\\\\025', 'C:\\\\Project\\\\View\\\\gauge-reading\\\\dataset\\\\needle_dataset/annotate_here\\\\028', 'C:\\\\Project\\\\View\\\\gauge-reading\\\\dataset\\\\needle_dataset/annotate_here\\\\030', 'C:\\\\Project\\\\View\\\\gauge-reading\\\\dataset\\\\needle_dataset/annotate_here\\\\039', 'C:\\\\Project\\\\View\\\\gauge-reading\\\\dataset\\\\needle_dataset/annotate_here\\\\041', 'C:\\\\Project\\\\View\\\\gauge-reading\\\\dataset\\\\needle_dataset/annotate_here\\\\043', 'C:\\\\Project\\\\View\\\\gauge-reading\\\\dataset\\\\needle_dataset/annotate_here\\\\046', 'C:\\\\Project\\\\View\\\\gauge-reading\\\\dataset\\\\needle_dataset/annotate_here\\\\048', 'C:\\\\Project\\\\View\\\\gauge-reading\\\\dataset\\\\needle_dataset/annotate_here\\\\050', 'C:\\\\Project\\\\View\\\\gauge-reading\\\\dataset\\\\needle_dataset/annotate_here\\\\057', 'C:\\\\Project\\\\View\\\\gauge-reading\\\\dataset\\\\needle_dataset/annotate_here\\\\063', 'C:\\\\Project\\\\View\\\\gauge-reading\\\\dataset\\\\needle_dataset/annotate_here\\\\076', 'C:\\\\Project\\\\View\\\\gauge-reading\\\\dataset\\\\needle_dataset/annotate_here\\\\105', 'C:\\\\Project\\\\View\\\\gauge-reading\\\\dataset\\\\needle_dataset/annotate_here\\\\110', 'C:\\\\Project\\\\View\\\\gauge-reading\\\\dataset\\\\needle_dataset/annotate_here\\\\113', 'C:\\\\Project\\\\View\\\\gauge-reading\\\\dataset\\\\needle_dataset/annotate_here\\\\117', 'C:\\\\Project\\\\View\\\\gauge-reading\\\\dataset\\\\needle_dataset/annotate_here\\\\119', 'C:\\\\Project\\\\View\\\\gauge-reading\\\\dataset\\\\needle_dataset/annotate_here\\\\132']\n",
      "finished relocation\n"
     ]
    }
   ],
   "source": [
    "files = glob.glob(DATASET_DIR+\"/annotate_here/*\")\n",
    "from collections import defaultdict\n",
    "import random\n",
    "file_num = defaultdict(int)\n",
    "for _file in files:\n",
    "    id = _file.split('.')[0]\n",
    "    file_num[id]+=1\n",
    "\n",
    "annotated, not_annotated = [], []\n",
    "for idx, key in enumerate(file_num):\n",
    "    if file_num[key]%2==1:\n",
    "        not_annotated.append(key)\n",
    "    else:\n",
    "        annotated.append(key)\n",
    "\n",
    "if len(not_annotated):\n",
    "    print(\"CHECK OUT NON_ANNOTATED FILES(MAX 10)\")\n",
    "    for i in range(10):\n",
    "        if i<len(not_annotated):\n",
    "            print(not_annotated[i])\n",
    "print()\n",
    "print(\"======================================\")\n",
    "print(\"Will only process with annotated files\")\n",
    "print(\"======================================\")\n",
    "\n",
    "# if random.random()<TEST_RATIO:\n",
    "#     MOVE TO TEST_RATIO\n",
    "print(annotated)\n",
    "for key in annotated:\n",
    "    number = key.split('/')[-1]\n",
    "    if random.random()<TEST_RATIO:\n",
    "        os.rename(key+\".txt\", os.path.join(DATASET_DIR, \"labels/test/\"+number+\".txt\"))\n",
    "        os.rename(key+\".jpg\", os.path.join(DATASET_DIR, \"images/test/\"+number+\".jpg\"))\n",
    "\n",
    "    else:\n",
    "        os.rename(key+\".txt\", os.path.join(DATASET_DIR, \"labels/train/\"+number+\".txt\"))\n",
    "        os.rename(key+\".jpg\", os.path.join(DATASET_DIR, \"images/train/\"+number+\".jpg\"))\n",
    "print(\"finished relocation\")\n"
   ]
  },
  {
   "cell_type": "code",
   "execution_count": 20,
   "outputs": [],
   "source": [
    "# IN SOME CASES, \\\\ (windows) has to be changed to / (linux)\n",
    "train_data = glob.glob(DATASET_DIR+\"/images/train/*.jpg\")\n",
    "train_data = [\"train/\"+element.split('/')[-1].split('.')[0] for element in train_data]\n",
    "test_data = glob.glob(DATASET_DIR+\"/images/test/*.jpg\")\n",
    "test_data = [\"test/\"+element.split('/')[-1].split('.')[0] for element in test_data]"
   ],
   "metadata": {
    "collapsed": false,
    "pycharm": {
     "name": "#%%\n"
    }
   }
  },
  {
   "cell_type": "code",
   "execution_count": 17,
   "outputs": [
    {
     "name": "stdout",
     "output_type": "stream",
     "text": [
      "83\n"
     ]
    }
   ],
   "source": [
    "# Check train_data\n",
    "\n",
    "print(len(train_data))"
   ],
   "metadata": {
    "collapsed": false,
    "pycharm": {
     "name": "#%%\n"
    }
   }
  },
  {
   "cell_type": "code",
   "execution_count": 21,
   "outputs": [
    {
     "name": "stdout",
     "output_type": "stream",
     "text": [
      "processing finished\n"
     ]
    }
   ],
   "source": [
    "# with open(DATASET_DIR+\"/train.txt\", \"w\") as f:\n",
    "#     f.write(\"\\n\".join(train_data))\n",
    "# with open(DATASET_DIR+\"/test.txt\", \"w\") as f:\n",
    "#     f.write(\"\\n\".join(test_data))\n",
    "# print(\"processing finished\")\n"
   ],
   "metadata": {
    "collapsed": false,
    "pycharm": {
     "name": "#%%\n"
    }
   }
  }
 ],
 "metadata": {
  "kernelspec": {
   "display_name": "Python 3",
   "language": "python",
   "name": "python3"
  },
  "language_info": {
   "codemirror_mode": {
    "name": "ipython",
    "version": 3
   },
   "file_extension": ".py",
   "mimetype": "text/x-python",
   "name": "python",
   "nbconvert_exporter": "python",
   "pygments_lexer": "ipython3",
   "version": "3.8.12"
  }
 },
 "nbformat": 4,
 "nbformat_minor": 0
}